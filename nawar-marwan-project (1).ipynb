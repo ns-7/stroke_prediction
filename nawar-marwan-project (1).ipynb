{
 "cells": [
  {
   "cell_type": "code",
   "execution_count": 1,
   "id": "9b9856e7",
   "metadata": {
    "_cell_guid": "b1076dfc-b9ad-4769-8c92-a6c4dae69d19",
    "_uuid": "8f2839f25d086af736a60e9eeb907d3b93b6e0e5",
    "execution": {
     "iopub.execute_input": "2023-05-26T18:21:17.142851Z",
     "iopub.status.busy": "2023-05-26T18:21:17.142464Z",
     "iopub.status.idle": "2023-05-26T18:21:17.160029Z",
     "shell.execute_reply": "2023-05-26T18:21:17.158796Z"
    },
    "papermill": {
     "duration": 0.031348,
     "end_time": "2023-05-26T18:21:17.162312",
     "exception": false,
     "start_time": "2023-05-26T18:21:17.130964",
     "status": "completed"
    },
    "tags": []
   },
   "outputs": [
    {
     "name": "stdout",
     "output_type": "stream",
     "text": [
      "/kaggle/input/stroke-prediction-dataset/healthcare-dataset-stroke-data.csv\n",
      "/kaggle/input/playground-series-s3e2/sample_submission.csv\n",
      "/kaggle/input/playground-series-s3e2/train.csv\n",
      "/kaggle/input/playground-series-s3e2/test.csv\n"
     ]
    }
   ],
   "source": [
    "# This Python 3 environment comes with many helpful analytics libraries installed\n",
    "# It is defined by the kaggle/python Docker image: https://github.com/kaggle/docker-python\n",
    "# For example, here's several helpful packages to load\n",
    "\n",
    "import numpy as np # linear algebra\n",
    "import pandas as pd # data processing, CSV file I/O (e.g. pd.read_csv)\n",
    "\n",
    "# Input data files are available in the read-only \"../input/\" directory\n",
    "# For example, running this (by clicking run or pressing Shift+Enter) will list all files under the input directory\n",
    "\n",
    "import os\n",
    "for dirname, _, filenames in os.walk('/kaggle/input'):\n",
    "    for filename in filenames:\n",
    "        print(os.path.join(dirname, filename))\n",
    "\n",
    "# You can write up to 20GB to the current directory (/kaggle/working/) that gets preserved as output when you create a version using \"Save & Run All\" \n",
    "# You can also write temporary files to /kaggle/temp/, but they won't be saved outside of the current session"
   ]
  },
  {
   "cell_type": "code",
   "execution_count": 2,
   "id": "5d78bda0",
   "metadata": {
    "execution": {
     "iopub.execute_input": "2023-05-26T18:21:17.180526Z",
     "iopub.status.busy": "2023-05-26T18:21:17.179779Z",
     "iopub.status.idle": "2023-05-26T18:21:19.538509Z",
     "shell.execute_reply": "2023-05-26T18:21:19.537573Z"
    },
    "papermill": {
     "duration": 2.370407,
     "end_time": "2023-05-26T18:21:19.540972",
     "exception": false,
     "start_time": "2023-05-26T18:21:17.170565",
     "status": "completed"
    },
    "tags": []
   },
   "outputs": [],
   "source": [
    "import matplotlib.pyplot as plt \n",
    "import seaborn as sns \n",
    "plt.style.use('fivethirtyeight')\n",
    "\n",
    "from sklearn.tree import DecisionTreeRegressor\n",
    "from sklearn.preprocessing import StandardScaler\n",
    "from sklearn.model_selection import KFold, StratifiedKFold, RepeatedStratifiedKFold\n",
    "from sklearn.metrics import roc_auc_score\n",
    "from sklearn.linear_model import LassoCV\n",
    "import catboost as cb \n",
    "from scipy.stats import rankdata"
   ]
  },
  {
   "cell_type": "code",
   "execution_count": 3,
   "id": "d776a48c",
   "metadata": {
    "execution": {
     "iopub.execute_input": "2023-05-26T18:21:19.559595Z",
     "iopub.status.busy": "2023-05-26T18:21:19.558455Z",
     "iopub.status.idle": "2023-05-26T18:21:19.688701Z",
     "shell.execute_reply": "2023-05-26T18:21:19.687445Z"
    },
    "papermill": {
     "duration": 0.142179,
     "end_time": "2023-05-26T18:21:19.691491",
     "exception": false,
     "start_time": "2023-05-26T18:21:19.549312",
     "status": "completed"
    },
    "tags": []
   },
   "outputs": [],
   "source": [
    "train = pd.read_csv(\"/kaggle/input/playground-series-s3e2/train.csv\", index_col='id')\n",
    "test = pd.read_csv('/kaggle/input/playground-series-s3e2/test.csv', index_col='id')\n",
    "submission = pd.read_csv('/kaggle/input/playground-series-s3e2/sample_submission.csv')"
   ]
  },
  {
   "cell_type": "code",
   "execution_count": 4,
   "id": "0dfd2b16",
   "metadata": {
    "execution": {
     "iopub.execute_input": "2023-05-26T18:21:19.709899Z",
     "iopub.status.busy": "2023-05-26T18:21:19.709499Z",
     "iopub.status.idle": "2023-05-26T18:21:19.730750Z",
     "shell.execute_reply": "2023-05-26T18:21:19.729714Z"
    },
    "papermill": {
     "duration": 0.033745,
     "end_time": "2023-05-26T18:21:19.733412",
     "exception": false,
     "start_time": "2023-05-26T18:21:19.699667",
     "status": "completed"
    },
    "tags": []
   },
   "outputs": [],
   "source": [
    "original = pd.read_csv(\"/kaggle/input/stroke-prediction-dataset/healthcare-dataset-stroke-data.csv\")"
   ]
  },
  {
   "cell_type": "markdown",
   "id": "b5b62001",
   "metadata": {
    "papermill": {
     "duration": 0.007745,
     "end_time": "2023-05-26T18:21:19.749528",
     "exception": false,
     "start_time": "2023-05-26T18:21:19.741783",
     "status": "completed"
    },
    "tags": []
   },
   "source": []
  },
  {
   "cell_type": "code",
   "execution_count": 5,
   "id": "c0f608bf",
   "metadata": {
    "execution": {
     "iopub.execute_input": "2023-05-26T18:21:19.767451Z",
     "iopub.status.busy": "2023-05-26T18:21:19.767052Z",
     "iopub.status.idle": "2023-05-26T18:21:19.978748Z",
     "shell.execute_reply": "2023-05-26T18:21:19.977459Z"
    },
    "papermill": {
     "duration": 0.223833,
     "end_time": "2023-05-26T18:21:19.981377",
     "exception": false,
     "start_time": "2023-05-26T18:21:19.757544",
     "status": "completed"
    },
    "tags": []
   },
   "outputs": [
    {
     "name": "stdout",
     "output_type": "stream",
     "text": [
      "                       train      original\n",
      "age                41.417708     43.226614\n",
      "avg_glucose_level  89.039853    106.147677\n",
      "bmi                28.112721     28.893237\n",
      "heart_disease       0.023327      0.054012\n",
      "hypertension        0.049726      0.097456\n",
      "id                       NaN  36517.829354\n",
      "stroke              0.041296      0.048728\n"
     ]
    },
    {
     "name": "stderr",
     "output_type": "stream",
     "text": [
      "/tmp/ipykernel_20/2872508846.py:1: FutureWarning: The default value of numeric_only in DataFrame.mean is deprecated. In a future version, it will default to False. In addition, specifying 'numeric_only=None' is deprecated. Select only valid columns or specify the value of numeric_only to silence this warning.\n",
      "  train_mean = train.mean()\n",
      "/tmp/ipykernel_20/2872508846.py:2: FutureWarning: The default value of numeric_only in DataFrame.mean is deprecated. In a future version, it will default to False. In addition, specifying 'numeric_only=None' is deprecated. Select only valid columns or specify the value of numeric_only to silence this warning.\n",
      "  original_mean = original.mean()\n"
     ]
    }
   ],
   "source": [
    "train_mean = train.mean()\n",
    "original_mean = original.mean()\n",
    "\n",
    "output_df = pd.DataFrame({'train': train_mean, 'original': original_mean})\n",
    "print(output_df)"
   ]
  },
  {
   "cell_type": "code",
   "execution_count": 6,
   "id": "aaef32c5",
   "metadata": {
    "execution": {
     "iopub.execute_input": "2023-05-26T18:21:19.999499Z",
     "iopub.status.busy": "2023-05-26T18:21:19.999137Z",
     "iopub.status.idle": "2023-05-26T18:21:20.016757Z",
     "shell.execute_reply": "2023-05-26T18:21:20.015280Z"
    },
    "papermill": {
     "duration": 0.029605,
     "end_time": "2023-05-26T18:21:20.019195",
     "exception": false,
     "start_time": "2023-05-26T18:21:19.989590",
     "status": "completed"
    },
    "tags": []
   },
   "outputs": [
    {
     "name": "stdout",
     "output_type": "stream",
     "text": [
      "                   train_Stroke  original_Stroke\n",
      "age                   68.417722        67.728193\n",
      "avg_glucose_level    107.362468       132.544739\n",
      "bmi                   30.230696        30.471292\n",
      "heart_disease          0.104430         0.188755\n",
      "hypertension           0.202532         0.265060\n",
      "id                          NaN     37115.068273\n",
      "stroke                 1.000000         1.000000\n"
     ]
    },
    {
     "name": "stderr",
     "output_type": "stream",
     "text": [
      "/tmp/ipykernel_20/1191976017.py:1: FutureWarning: The default value of numeric_only in DataFrame.mean is deprecated. In a future version, it will default to False. In addition, specifying 'numeric_only=None' is deprecated. Select only valid columns or specify the value of numeric_only to silence this warning.\n",
      "  train_Stroke_mean = train[train['stroke'] == 1].mean()\n",
      "/tmp/ipykernel_20/1191976017.py:2: FutureWarning: The default value of numeric_only in DataFrame.mean is deprecated. In a future version, it will default to False. In addition, specifying 'numeric_only=None' is deprecated. Select only valid columns or specify the value of numeric_only to silence this warning.\n",
      "  original_Stroke_mean = original[original['stroke'] == 1].mean()\n"
     ]
    }
   ],
   "source": [
    "train_Stroke_mean = train[train['stroke'] == 1].mean()\n",
    "original_Stroke_mean = original[original['stroke'] == 1].mean()\n",
    "\n",
    "stroke_out = pd.DataFrame({'train_Stroke': train_Stroke_mean, 'original_Stroke': original_Stroke_mean})\n",
    "print(stroke_out)"
   ]
  },
  {
   "cell_type": "code",
   "execution_count": 7,
   "id": "7a29de66",
   "metadata": {
    "execution": {
     "iopub.execute_input": "2023-05-26T18:21:20.038197Z",
     "iopub.status.busy": "2023-05-26T18:21:20.037778Z",
     "iopub.status.idle": "2023-05-26T18:21:20.044338Z",
     "shell.execute_reply": "2023-05-26T18:21:20.043068Z"
    },
    "papermill": {
     "duration": 0.018969,
     "end_time": "2023-05-26T18:21:20.046636",
     "exception": false,
     "start_time": "2023-05-26T18:21:20.027667",
     "status": "completed"
    },
    "tags": []
   },
   "outputs": [],
   "source": [
    "train['Original'] = 0\n",
    "test['Original'] = 0\n",
    "original['Original'] = 1"
   ]
  },
  {
   "cell_type": "code",
   "execution_count": 8,
   "id": "6eb3b092",
   "metadata": {
    "execution": {
     "iopub.execute_input": "2023-05-26T18:21:20.066014Z",
     "iopub.status.busy": "2023-05-26T18:21:20.064717Z",
     "iopub.status.idle": "2023-05-26T18:21:20.081714Z",
     "shell.execute_reply": "2023-05-26T18:21:20.080637Z"
    },
    "papermill": {
     "duration": 0.029234,
     "end_time": "2023-05-26T18:21:20.084225",
     "exception": false,
     "start_time": "2023-05-26T18:21:20.054991",
     "status": "completed"
    },
    "tags": []
   },
   "outputs": [],
   "source": [
    "train = pd.concat([train, original.query('stroke == 1').drop(columns=['id'], axis=1)], ignore_index=True)"
   ]
  },
  {
   "cell_type": "code",
   "execution_count": 9,
   "id": "46a46141",
   "metadata": {
    "execution": {
     "iopub.execute_input": "2023-05-26T18:21:20.103016Z",
     "iopub.status.busy": "2023-05-26T18:21:20.101846Z",
     "iopub.status.idle": "2023-05-26T18:21:20.126177Z",
     "shell.execute_reply": "2023-05-26T18:21:20.125147Z"
    },
    "papermill": {
     "duration": 0.035952,
     "end_time": "2023-05-26T18:21:20.128448",
     "exception": false,
     "start_time": "2023-05-26T18:21:20.092496",
     "status": "completed"
    },
    "tags": []
   },
   "outputs": [
    {
     "data": {
      "text/plain": [
       "gender                0\n",
       "age                   0\n",
       "hypertension          0\n",
       "heart_disease         0\n",
       "ever_married          0\n",
       "work_type             0\n",
       "Residence_type        0\n",
       "avg_glucose_level     0\n",
       "bmi                  40\n",
       "smoking_status        0\n",
       "stroke                0\n",
       "Original              0\n",
       "dtype: int64"
      ]
     },
     "execution_count": 9,
     "metadata": {},
     "output_type": "execute_result"
    }
   ],
   "source": [
    "train.isnull().sum()"
   ]
  },
  {
   "cell_type": "code",
   "execution_count": 10,
   "id": "f21b3f71",
   "metadata": {
    "execution": {
     "iopub.execute_input": "2023-05-26T18:21:20.148007Z",
     "iopub.status.busy": "2023-05-26T18:21:20.147094Z",
     "iopub.status.idle": "2023-05-26T18:21:20.184140Z",
     "shell.execute_reply": "2023-05-26T18:21:20.182968Z"
    },
    "papermill": {
     "duration": 0.049676,
     "end_time": "2023-05-26T18:21:20.186763",
     "exception": false,
     "start_time": "2023-05-26T18:21:20.137087",
     "status": "completed"
    },
    "tags": []
   },
   "outputs": [],
   "source": [
    "dtr = DecisionTreeRegressor(random_state=42)\n",
    "\n",
    "X = train[['age', 'gender', 'bmi']].copy()\n",
    "X['gender'] = X['gender'].replace({\n",
    "    'Male': 0,\n",
    "    'Female': 1,\n",
    "    'Other': -1\n",
    "}).astype(np.int8)\n",
    "\n",
    "Missing = X[X['bmi'].isna()]\n",
    "X = X[~X['bmi'].isna()]\n",
    "y = X.pop('bmi')\n",
    "dtr.fit(X, y)\n",
    "preds_bmi = pd.Series(dtr.predict(Missing[['age', 'gender']]), index=Missing.index)\n",
    "train.loc[Missing.index, 'bmi'] = preds_bmi"
   ]
  },
  {
   "cell_type": "code",
   "execution_count": 11,
   "id": "97cef2da",
   "metadata": {
    "execution": {
     "iopub.execute_input": "2023-05-26T18:21:20.205913Z",
     "iopub.status.busy": "2023-05-26T18:21:20.205473Z",
     "iopub.status.idle": "2023-05-26T18:21:20.215650Z",
     "shell.execute_reply": "2023-05-26T18:21:20.214655Z"
    },
    "papermill": {
     "duration": 0.022463,
     "end_time": "2023-05-26T18:21:20.217807",
     "exception": false,
     "start_time": "2023-05-26T18:21:20.195344",
     "status": "completed"
    },
    "tags": []
   },
   "outputs": [],
   "source": [
    "df = pd.concat([train, test], axis=0)"
   ]
  },
  {
   "cell_type": "code",
   "execution_count": 12,
   "id": "ba055eb5",
   "metadata": {
    "execution": {
     "iopub.execute_input": "2023-05-26T18:21:20.236858Z",
     "iopub.status.busy": "2023-05-26T18:21:20.236107Z",
     "iopub.status.idle": "2023-05-26T18:21:20.258017Z",
     "shell.execute_reply": "2023-05-26T18:21:20.257112Z"
    },
    "papermill": {
     "duration": 0.033675,
     "end_time": "2023-05-26T18:21:20.260066",
     "exception": false,
     "start_time": "2023-05-26T18:21:20.226391",
     "status": "completed"
    },
    "tags": []
   },
   "outputs": [
    {
     "data": {
      "text/plain": [
       "gender                  3\n",
       "age                   109\n",
       "hypertension            2\n",
       "heart_disease           2\n",
       "ever_married            2\n",
       "work_type               5\n",
       "Residence_type          2\n",
       "avg_glucose_level    4391\n",
       "bmi                   465\n",
       "smoking_status          4\n",
       "stroke                  2\n",
       "Original                2\n",
       "dtype: int64"
      ]
     },
     "execution_count": 12,
     "metadata": {},
     "output_type": "execute_result"
    }
   ],
   "source": [
    "df.nunique()"
   ]
  },
  {
   "cell_type": "code",
   "execution_count": 13,
   "id": "9501cd99",
   "metadata": {
    "execution": {
     "iopub.execute_input": "2023-05-26T18:21:20.279107Z",
     "iopub.status.busy": "2023-05-26T18:21:20.278678Z",
     "iopub.status.idle": "2023-05-26T18:21:20.286367Z",
     "shell.execute_reply": "2023-05-26T18:21:20.285304Z"
    },
    "papermill": {
     "duration": 0.019817,
     "end_time": "2023-05-26T18:21:20.288522",
     "exception": false,
     "start_time": "2023-05-26T18:21:20.268705",
     "status": "completed"
    },
    "tags": []
   },
   "outputs": [
    {
     "data": {
      "text/plain": [
       "0.034204293978335985"
      ]
     },
     "execution_count": 13,
     "metadata": {},
     "output_type": "execute_result"
    }
   ],
   "source": [
    "df['stroke'].sum() / len(df)"
   ]
  },
  {
   "cell_type": "code",
   "execution_count": 14,
   "id": "4fdf7283",
   "metadata": {
    "execution": {
     "iopub.execute_input": "2023-05-26T18:21:20.308863Z",
     "iopub.status.busy": "2023-05-26T18:21:20.307819Z",
     "iopub.status.idle": "2023-05-26T18:21:20.325306Z",
     "shell.execute_reply": "2023-05-26T18:21:20.324226Z"
    },
    "papermill": {
     "duration": 0.030168,
     "end_time": "2023-05-26T18:21:20.327642",
     "exception": false,
     "start_time": "2023-05-26T18:21:20.297474",
     "status": "completed"
    },
    "tags": []
   },
   "outputs": [
    {
     "data": {
      "text/plain": [
       "gender\n",
       "Female    0.031962\n",
       "Male      0.037843\n",
       "Other     0.000000\n",
       "dtype: float64"
      ]
     },
     "execution_count": 14,
     "metadata": {},
     "output_type": "execute_result"
    }
   ],
   "source": [
    "df.groupby('gender')['stroke'].sum() / df.groupby('gender')['age'].count()"
   ]
  },
  {
   "cell_type": "code",
   "execution_count": 15,
   "id": "8e4fb6c9",
   "metadata": {
    "execution": {
     "iopub.execute_input": "2023-05-26T18:21:20.346863Z",
     "iopub.status.busy": "2023-05-26T18:21:20.346489Z",
     "iopub.status.idle": "2023-05-26T18:21:20.363615Z",
     "shell.execute_reply": "2023-05-26T18:21:20.362553Z"
    },
    "papermill": {
     "duration": 0.029748,
     "end_time": "2023-05-26T18:21:20.366111",
     "exception": false,
     "start_time": "2023-05-26T18:21:20.336363",
     "status": "completed"
    },
    "tags": []
   },
   "outputs": [],
   "source": [
    "df['gender'].replace('Other', 'Female', inplace=True)\n",
    "df = pd.concat([df, pd.get_dummies(df['gender'], drop_first=True)], axis=1)\n",
    "df = df.drop(columns='gender', axis=1)"
   ]
  },
  {
   "cell_type": "code",
   "execution_count": 16,
   "id": "93c80203",
   "metadata": {
    "execution": {
     "iopub.execute_input": "2023-05-26T18:21:20.385868Z",
     "iopub.status.busy": "2023-05-26T18:21:20.385241Z",
     "iopub.status.idle": "2023-05-26T18:21:20.396858Z",
     "shell.execute_reply": "2023-05-26T18:21:20.395926Z"
    },
    "papermill": {
     "duration": 0.024155,
     "end_time": "2023-05-26T18:21:20.399166",
     "exception": false,
     "start_time": "2023-05-26T18:21:20.375011",
     "status": "completed"
    },
    "tags": []
   },
   "outputs": [
    {
     "data": {
      "text/plain": [
       "never smoked       10608\n",
       "Unknown             7566\n",
       "formerly smoked     3991\n",
       "smokes              3592\n",
       "Name: smoking_status, dtype: int64"
      ]
     },
     "execution_count": 16,
     "metadata": {},
     "output_type": "execute_result"
    }
   ],
   "source": [
    "df['smoking_status'].value_counts()"
   ]
  },
  {
   "cell_type": "code",
   "execution_count": 17,
   "id": "05370bf4",
   "metadata": {
    "execution": {
     "iopub.execute_input": "2023-05-26T18:21:20.418843Z",
     "iopub.status.busy": "2023-05-26T18:21:20.418158Z",
     "iopub.status.idle": "2023-05-26T18:21:20.424387Z",
     "shell.execute_reply": "2023-05-26T18:21:20.423666Z"
    },
    "papermill": {
     "duration": 0.018352,
     "end_time": "2023-05-26T18:21:20.426432",
     "exception": false,
     "start_time": "2023-05-26T18:21:20.408080",
     "status": "completed"
    },
    "tags": []
   },
   "outputs": [],
   "source": [
    "df['morbid'] = np.where(df['bmi']>40, 1, 0)\n",
    "df['obese'] = np.where(df['bmi']>30, 1, 0)"
   ]
  },
  {
   "cell_type": "code",
   "execution_count": 18,
   "id": "f417c920",
   "metadata": {
    "execution": {
     "iopub.execute_input": "2023-05-26T18:21:20.445412Z",
     "iopub.status.busy": "2023-05-26T18:21:20.445020Z",
     "iopub.status.idle": "2023-05-26T18:21:20.451645Z",
     "shell.execute_reply": "2023-05-26T18:21:20.450623Z"
    },
    "papermill": {
     "duration": 0.018489,
     "end_time": "2023-05-26T18:21:20.453669",
     "exception": false,
     "start_time": "2023-05-26T18:21:20.435180",
     "status": "completed"
    },
    "tags": []
   },
   "outputs": [],
   "source": [
    "def feature_risk_factors(df):\n",
    "    df['risk_factors'] = df[['avg_glucose_level', 'age', 'bmi', 'hypertension', 'heart_disease', 'smoking_status']].apply(\n",
    "        lambda x : 0 + (1 if x['avg_glucose_level'] > 99 else 0) +\n",
    "        (1 if x['age'] > 45 else 0) + (1 if x['bmi'] > 24.99 else 0) +\n",
    "        (1 if x['hypertension'] == 1 else 0) + (1 if x['heart_disease'] == 1 else 0) +\n",
    "        (1 if x['smoking_status'] in ['formerly smoked', 'smokes'] else 0), \n",
    "        axis=1\n",
    "    )\n",
    "    return df"
   ]
  },
  {
   "cell_type": "code",
   "execution_count": 19,
   "id": "3eeb9e86",
   "metadata": {
    "execution": {
     "iopub.execute_input": "2023-05-26T18:21:20.472946Z",
     "iopub.status.busy": "2023-05-26T18:21:20.472556Z",
     "iopub.status.idle": "2023-05-26T18:21:21.169704Z",
     "shell.execute_reply": "2023-05-26T18:21:21.168594Z"
    },
    "papermill": {
     "duration": 0.709697,
     "end_time": "2023-05-26T18:21:21.172295",
     "exception": false,
     "start_time": "2023-05-26T18:21:20.462598",
     "status": "completed"
    },
    "tags": []
   },
   "outputs": [
    {
     "data": {
      "text/html": [
       "<div>\n",
       "<style scoped>\n",
       "    .dataframe tbody tr th:only-of-type {\n",
       "        vertical-align: middle;\n",
       "    }\n",
       "\n",
       "    .dataframe tbody tr th {\n",
       "        vertical-align: top;\n",
       "    }\n",
       "\n",
       "    .dataframe thead th {\n",
       "        text-align: right;\n",
       "    }\n",
       "</style>\n",
       "<table border=\"1\" class=\"dataframe\">\n",
       "  <thead>\n",
       "    <tr style=\"text-align: right;\">\n",
       "      <th></th>\n",
       "      <th>age</th>\n",
       "      <th>hypertension</th>\n",
       "      <th>heart_disease</th>\n",
       "      <th>ever_married</th>\n",
       "      <th>work_type</th>\n",
       "      <th>Residence_type</th>\n",
       "      <th>avg_glucose_level</th>\n",
       "      <th>bmi</th>\n",
       "      <th>smoking_status</th>\n",
       "      <th>stroke</th>\n",
       "      <th>Original</th>\n",
       "      <th>Male</th>\n",
       "      <th>morbid</th>\n",
       "      <th>obese</th>\n",
       "      <th>risk_factors</th>\n",
       "    </tr>\n",
       "  </thead>\n",
       "  <tbody>\n",
       "    <tr>\n",
       "      <th>0</th>\n",
       "      <td>28.0</td>\n",
       "      <td>0</td>\n",
       "      <td>0</td>\n",
       "      <td>Yes</td>\n",
       "      <td>Private</td>\n",
       "      <td>Urban</td>\n",
       "      <td>79.53</td>\n",
       "      <td>31.1</td>\n",
       "      <td>never smoked</td>\n",
       "      <td>0.0</td>\n",
       "      <td>0</td>\n",
       "      <td>1</td>\n",
       "      <td>0</td>\n",
       "      <td>1</td>\n",
       "      <td>1</td>\n",
       "    </tr>\n",
       "    <tr>\n",
       "      <th>1</th>\n",
       "      <td>33.0</td>\n",
       "      <td>0</td>\n",
       "      <td>0</td>\n",
       "      <td>Yes</td>\n",
       "      <td>Private</td>\n",
       "      <td>Rural</td>\n",
       "      <td>78.44</td>\n",
       "      <td>23.9</td>\n",
       "      <td>formerly smoked</td>\n",
       "      <td>0.0</td>\n",
       "      <td>0</td>\n",
       "      <td>1</td>\n",
       "      <td>0</td>\n",
       "      <td>0</td>\n",
       "      <td>1</td>\n",
       "    </tr>\n",
       "    <tr>\n",
       "      <th>2</th>\n",
       "      <td>42.0</td>\n",
       "      <td>0</td>\n",
       "      <td>0</td>\n",
       "      <td>Yes</td>\n",
       "      <td>Private</td>\n",
       "      <td>Rural</td>\n",
       "      <td>103.00</td>\n",
       "      <td>40.3</td>\n",
       "      <td>Unknown</td>\n",
       "      <td>0.0</td>\n",
       "      <td>0</td>\n",
       "      <td>0</td>\n",
       "      <td>1</td>\n",
       "      <td>1</td>\n",
       "      <td>2</td>\n",
       "    </tr>\n",
       "    <tr>\n",
       "      <th>3</th>\n",
       "      <td>56.0</td>\n",
       "      <td>0</td>\n",
       "      <td>0</td>\n",
       "      <td>Yes</td>\n",
       "      <td>Private</td>\n",
       "      <td>Urban</td>\n",
       "      <td>64.87</td>\n",
       "      <td>28.8</td>\n",
       "      <td>never smoked</td>\n",
       "      <td>0.0</td>\n",
       "      <td>0</td>\n",
       "      <td>1</td>\n",
       "      <td>0</td>\n",
       "      <td>0</td>\n",
       "      <td>2</td>\n",
       "    </tr>\n",
       "    <tr>\n",
       "      <th>4</th>\n",
       "      <td>24.0</td>\n",
       "      <td>0</td>\n",
       "      <td>0</td>\n",
       "      <td>No</td>\n",
       "      <td>Private</td>\n",
       "      <td>Rural</td>\n",
       "      <td>73.36</td>\n",
       "      <td>28.8</td>\n",
       "      <td>never smoked</td>\n",
       "      <td>0.0</td>\n",
       "      <td>0</td>\n",
       "      <td>0</td>\n",
       "      <td>0</td>\n",
       "      <td>0</td>\n",
       "      <td>1</td>\n",
       "    </tr>\n",
       "    <tr>\n",
       "      <th>...</th>\n",
       "      <td>...</td>\n",
       "      <td>...</td>\n",
       "      <td>...</td>\n",
       "      <td>...</td>\n",
       "      <td>...</td>\n",
       "      <td>...</td>\n",
       "      <td>...</td>\n",
       "      <td>...</td>\n",
       "      <td>...</td>\n",
       "      <td>...</td>\n",
       "      <td>...</td>\n",
       "      <td>...</td>\n",
       "      <td>...</td>\n",
       "      <td>...</td>\n",
       "      <td>...</td>\n",
       "    </tr>\n",
       "    <tr>\n",
       "      <th>25503</th>\n",
       "      <td>27.0</td>\n",
       "      <td>0</td>\n",
       "      <td>0</td>\n",
       "      <td>No</td>\n",
       "      <td>Private</td>\n",
       "      <td>Urban</td>\n",
       "      <td>75.77</td>\n",
       "      <td>17.6</td>\n",
       "      <td>never smoked</td>\n",
       "      <td>NaN</td>\n",
       "      <td>0</td>\n",
       "      <td>0</td>\n",
       "      <td>0</td>\n",
       "      <td>0</td>\n",
       "      <td>0</td>\n",
       "    </tr>\n",
       "    <tr>\n",
       "      <th>25504</th>\n",
       "      <td>49.0</td>\n",
       "      <td>0</td>\n",
       "      <td>0</td>\n",
       "      <td>Yes</td>\n",
       "      <td>Private</td>\n",
       "      <td>Urban</td>\n",
       "      <td>102.91</td>\n",
       "      <td>26.7</td>\n",
       "      <td>Unknown</td>\n",
       "      <td>NaN</td>\n",
       "      <td>0</td>\n",
       "      <td>1</td>\n",
       "      <td>0</td>\n",
       "      <td>0</td>\n",
       "      <td>3</td>\n",
       "    </tr>\n",
       "    <tr>\n",
       "      <th>25505</th>\n",
       "      <td>3.0</td>\n",
       "      <td>0</td>\n",
       "      <td>0</td>\n",
       "      <td>No</td>\n",
       "      <td>children</td>\n",
       "      <td>Rural</td>\n",
       "      <td>104.04</td>\n",
       "      <td>18.3</td>\n",
       "      <td>Unknown</td>\n",
       "      <td>NaN</td>\n",
       "      <td>0</td>\n",
       "      <td>0</td>\n",
       "      <td>0</td>\n",
       "      <td>0</td>\n",
       "      <td>1</td>\n",
       "    </tr>\n",
       "    <tr>\n",
       "      <th>25506</th>\n",
       "      <td>31.0</td>\n",
       "      <td>0</td>\n",
       "      <td>0</td>\n",
       "      <td>Yes</td>\n",
       "      <td>Private</td>\n",
       "      <td>Urban</td>\n",
       "      <td>82.41</td>\n",
       "      <td>28.7</td>\n",
       "      <td>never smoked</td>\n",
       "      <td>NaN</td>\n",
       "      <td>0</td>\n",
       "      <td>1</td>\n",
       "      <td>0</td>\n",
       "      <td>0</td>\n",
       "      <td>1</td>\n",
       "    </tr>\n",
       "    <tr>\n",
       "      <th>25507</th>\n",
       "      <td>2.0</td>\n",
       "      <td>0</td>\n",
       "      <td>0</td>\n",
       "      <td>No</td>\n",
       "      <td>children</td>\n",
       "      <td>Urban</td>\n",
       "      <td>85.12</td>\n",
       "      <td>14.8</td>\n",
       "      <td>Unknown</td>\n",
       "      <td>NaN</td>\n",
       "      <td>0</td>\n",
       "      <td>0</td>\n",
       "      <td>0</td>\n",
       "      <td>0</td>\n",
       "      <td>0</td>\n",
       "    </tr>\n",
       "  </tbody>\n",
       "</table>\n",
       "<p>25757 rows × 15 columns</p>\n",
       "</div>"
      ],
      "text/plain": [
       "        age  hypertension  heart_disease ever_married work_type  \\\n",
       "0      28.0             0              0          Yes   Private   \n",
       "1      33.0             0              0          Yes   Private   \n",
       "2      42.0             0              0          Yes   Private   \n",
       "3      56.0             0              0          Yes   Private   \n",
       "4      24.0             0              0           No   Private   \n",
       "...     ...           ...            ...          ...       ...   \n",
       "25503  27.0             0              0           No   Private   \n",
       "25504  49.0             0              0          Yes   Private   \n",
       "25505   3.0             0              0           No  children   \n",
       "25506  31.0             0              0          Yes   Private   \n",
       "25507   2.0             0              0           No  children   \n",
       "\n",
       "      Residence_type  avg_glucose_level   bmi   smoking_status  stroke  \\\n",
       "0              Urban              79.53  31.1     never smoked     0.0   \n",
       "1              Rural              78.44  23.9  formerly smoked     0.0   \n",
       "2              Rural             103.00  40.3          Unknown     0.0   \n",
       "3              Urban              64.87  28.8     never smoked     0.0   \n",
       "4              Rural              73.36  28.8     never smoked     0.0   \n",
       "...              ...                ...   ...              ...     ...   \n",
       "25503          Urban              75.77  17.6     never smoked     NaN   \n",
       "25504          Urban             102.91  26.7          Unknown     NaN   \n",
       "25505          Rural             104.04  18.3          Unknown     NaN   \n",
       "25506          Urban              82.41  28.7     never smoked     NaN   \n",
       "25507          Urban              85.12  14.8          Unknown     NaN   \n",
       "\n",
       "       Original  Male  morbid  obese  risk_factors  \n",
       "0             0     1       0      1             1  \n",
       "1             0     1       0      0             1  \n",
       "2             0     0       1      1             2  \n",
       "3             0     1       0      0             2  \n",
       "4             0     0       0      0             1  \n",
       "...         ...   ...     ...    ...           ...  \n",
       "25503         0     0       0      0             0  \n",
       "25504         0     1       0      0             3  \n",
       "25505         0     0       0      0             1  \n",
       "25506         0     1       0      0             1  \n",
       "25507         0     0       0      0             0  \n",
       "\n",
       "[25757 rows x 15 columns]"
      ]
     },
     "execution_count": 19,
     "metadata": {},
     "output_type": "execute_result"
    }
   ],
   "source": [
    "feature_risk_factors(df)"
   ]
  },
  {
   "cell_type": "code",
   "execution_count": 20,
   "id": "c766814f",
   "metadata": {
    "execution": {
     "iopub.execute_input": "2023-05-26T18:21:21.193155Z",
     "iopub.status.busy": "2023-05-26T18:21:21.192539Z",
     "iopub.status.idle": "2023-05-26T18:21:21.517405Z",
     "shell.execute_reply": "2023-05-26T18:21:21.516272Z"
    },
    "papermill": {
     "duration": 0.33816,
     "end_time": "2023-05-26T18:21:21.520028",
     "exception": false,
     "start_time": "2023-05-26T18:21:21.181868",
     "status": "completed"
    },
    "tags": []
   },
   "outputs": [
    {
     "name": "stderr",
     "output_type": "stream",
     "text": [
      "/tmp/ipykernel_20/254730299.py:4: RuntimeWarning: invalid value encountered in double_scalars\n",
      "  rate.append(df[Age < i]['stroke'].sum() / len(df[Age < i]['stroke']) * 100.0)\n"
     ]
    }
   ],
   "source": [
    "Age = df['age'].astype('int')\n",
    "rate = []\n",
    "for i in range(Age.min(), Age.max()):\n",
    "    rate.append(df[Age < i]['stroke'].sum() / len(df[Age < i]['stroke']) * 100.0)"
   ]
  },
  {
   "cell_type": "code",
   "execution_count": 21,
   "id": "2a7b455f",
   "metadata": {
    "execution": {
     "iopub.execute_input": "2023-05-26T18:21:21.541177Z",
     "iopub.status.busy": "2023-05-26T18:21:21.540757Z",
     "iopub.status.idle": "2023-05-26T18:21:21.808242Z",
     "shell.execute_reply": "2023-05-26T18:21:21.807104Z"
    },
    "papermill": {
     "duration": 0.281042,
     "end_time": "2023-05-26T18:21:21.810643",
     "exception": false,
     "start_time": "2023-05-26T18:21:21.529601",
     "status": "completed"
    },
    "tags": []
   },
   "outputs": [
    {
     "data": {
      "image/png": "[encoded data removed]",
      "text/plain": [
       "<Figure size 640x480 with 1 Axes>"
      ]
     },
     "metadata": {},
     "output_type": "display_data"
    }
   ],
   "source": [
    "plt.plot(rate)\n",
    "plt.xlabel('Age', fontsize=12)\n",
    "plt.ylabel('% of strokes', fontsize=12)\n",
    "plt.show()"
   ]
  },
  {
   "cell_type": "code",
   "execution_count": 22,
   "id": "c354e8f0",
   "metadata": {
    "execution": {
     "iopub.execute_input": "2023-05-26T18:21:21.832461Z",
     "iopub.status.busy": "2023-05-26T18:21:21.831766Z",
     "iopub.status.idle": "2023-05-26T18:21:21.854494Z",
     "shell.execute_reply": "2023-05-26T18:21:21.853270Z"
    },
    "papermill": {
     "duration": 0.036316,
     "end_time": "2023-05-26T18:21:21.857132",
     "exception": false,
     "start_time": "2023-05-26T18:21:21.820816",
     "status": "completed"
    },
    "tags": []
   },
   "outputs": [],
   "source": [
    "df = pd.get_dummies(df)"
   ]
  },
  {
   "cell_type": "code",
   "execution_count": 23,
   "id": "b4ba5fa5",
   "metadata": {
    "execution": {
     "iopub.execute_input": "2023-05-26T18:21:21.878486Z",
     "iopub.status.busy": "2023-05-26T18:21:21.878063Z",
     "iopub.status.idle": "2023-05-26T18:21:21.891558Z",
     "shell.execute_reply": "2023-05-26T18:21:21.890418Z"
    },
    "papermill": {
     "duration": 0.027027,
     "end_time": "2023-05-26T18:21:21.894125",
     "exception": false,
     "start_time": "2023-05-26T18:21:21.867098",
     "status": "completed"
    },
    "tags": []
   },
   "outputs": [],
   "source": [
    "scaler = StandardScaler()\n",
    "num_cols = ['age', 'avg_glucose_level', 'bmi']\n",
    "df[num_cols] = scaler.fit_transform(df[num_cols])"
   ]
  },
  {
   "cell_type": "code",
   "execution_count": 24,
   "id": "b0b01474",
   "metadata": {
    "execution": {
     "iopub.execute_input": "2023-05-26T18:21:21.916284Z",
     "iopub.status.busy": "2023-05-26T18:21:21.915457Z",
     "iopub.status.idle": "2023-05-26T18:21:21.931488Z",
     "shell.execute_reply": "2023-05-26T18:21:21.930474Z"
    },
    "papermill": {
     "duration": 0.029712,
     "end_time": "2023-05-26T18:21:21.933766",
     "exception": false,
     "start_time": "2023-05-26T18:21:21.904054",
     "status": "completed"
    },
    "tags": []
   },
   "outputs": [
    {
     "name": "stdout",
     "output_type": "stream",
     "text": [
      "<class 'pandas.core.frame.DataFrame'>\n",
      "Int64Index: 25757 entries, 0 to 25507\n",
      "Data columns (total 24 columns):\n",
      " #   Column                          Non-Null Count  Dtype  \n",
      "---  ------                          --------------  -----  \n",
      " 0   age                             25757 non-null  float64\n",
      " 1   hypertension                    25757 non-null  int64  \n",
      " 2   heart_disease                   25757 non-null  int64  \n",
      " 3   avg_glucose_level               25757 non-null  float64\n",
      " 4   bmi                             25757 non-null  float64\n",
      " 5   stroke                          15553 non-null  float64\n",
      " 6   Original                        25757 non-null  int64  \n",
      " 7   Male                            25757 non-null  uint8  \n",
      " 8   morbid                          25757 non-null  int64  \n",
      " 9   obese                           25757 non-null  int64  \n",
      " 10  risk_factors                    25757 non-null  int64  \n",
      " 11  ever_married_No                 25757 non-null  uint8  \n",
      " 12  ever_married_Yes                25757 non-null  uint8  \n",
      " 13  work_type_Govt_job              25757 non-null  uint8  \n",
      " 14  work_type_Never_worked          25757 non-null  uint8  \n",
      " 15  work_type_Private               25757 non-null  uint8  \n",
      " 16  work_type_Self-employed         25757 non-null  uint8  \n",
      " 17  work_type_children              25757 non-null  uint8  \n",
      " 18  Residence_type_Rural            25757 non-null  uint8  \n",
      " 19  Residence_type_Urban            25757 non-null  uint8  \n",
      " 20  smoking_status_Unknown          25757 non-null  uint8  \n",
      " 21  smoking_status_formerly smoked  25757 non-null  uint8  \n",
      " 22  smoking_status_never smoked     25757 non-null  uint8  \n",
      " 23  smoking_status_smokes           25757 non-null  uint8  \n",
      "dtypes: float64(4), int64(6), uint8(14)\n",
      "memory usage: 2.5 MB\n"
     ]
    }
   ],
   "source": [
    "df.info()"
   ]
  },
  {
   "cell_type": "code",
   "execution_count": 25,
   "id": "196e594a",
   "metadata": {
    "execution": {
     "iopub.execute_input": "2023-05-26T18:21:21.955864Z",
     "iopub.status.busy": "2023-05-26T18:21:21.955222Z",
     "iopub.status.idle": "2023-05-26T18:21:21.961433Z",
     "shell.execute_reply": "2023-05-26T18:21:21.960632Z"
    },
    "papermill": {
     "duration": 0.019866,
     "end_time": "2023-05-26T18:21:21.963641",
     "exception": false,
     "start_time": "2023-05-26T18:21:21.943775",
     "status": "completed"
    },
    "tags": []
   },
   "outputs": [],
   "source": [
    "X = df[:len(train)]\n",
    "y = X['stroke']\n",
    "X = X.drop(columns=['stroke', 'Original'], axis=1)"
   ]
  },
  {
   "cell_type": "code",
   "execution_count": 26,
   "id": "5614c9e7",
   "metadata": {
    "execution": {
     "iopub.execute_input": "2023-05-26T18:21:21.986052Z",
     "iopub.status.busy": "2023-05-26T18:21:21.985640Z",
     "iopub.status.idle": "2023-05-26T18:21:21.992527Z",
     "shell.execute_reply": "2023-05-26T18:21:21.991514Z"
    },
    "papermill": {
     "duration": 0.020824,
     "end_time": "2023-05-26T18:21:21.994542",
     "exception": false,
     "start_time": "2023-05-26T18:21:21.973718",
     "status": "completed"
    },
    "tags": []
   },
   "outputs": [],
   "source": [
    "X_test = df.tail(len(test))\n",
    "X_test = X_test.drop(columns=['stroke', 'Original'], axis=1)"
   ]
  },
  {
   "cell_type": "code",
   "execution_count": 27,
   "id": "37c9ed1d",
   "metadata": {
    "execution": {
     "iopub.execute_input": "2023-05-26T18:21:22.016836Z",
     "iopub.status.busy": "2023-05-26T18:21:22.015731Z",
     "iopub.status.idle": "2023-05-26T18:21:22.023090Z",
     "shell.execute_reply": "2023-05-26T18:21:22.021668Z"
    },
    "papermill": {
     "duration": 0.021135,
     "end_time": "2023-05-26T18:21:22.025671",
     "exception": false,
     "start_time": "2023-05-26T18:21:22.004536",
     "status": "completed"
    },
    "tags": []
   },
   "outputs": [
    {
     "data": {
      "text/plain": [
       "((15553, 22), (15553,), (10204, 22))"
      ]
     },
     "execution_count": 27,
     "metadata": {},
     "output_type": "execute_result"
    }
   ],
   "source": [
    "X.shape, y.shape, X_test.shape"
   ]
  },
  {
   "cell_type": "code",
   "execution_count": 28,
   "id": "633bdbc5",
   "metadata": {
    "execution": {
     "iopub.execute_input": "2023-05-26T18:21:22.049317Z",
     "iopub.status.busy": "2023-05-26T18:21:22.048177Z",
     "iopub.status.idle": "2023-05-26T18:21:57.438586Z",
     "shell.execute_reply": "2023-05-26T18:21:57.437362Z"
    },
    "papermill": {
     "duration": 35.40522,
     "end_time": "2023-05-26T18:21:57.441612",
     "exception": false,
     "start_time": "2023-05-26T18:21:22.036392",
     "status": "completed"
    },
    "tags": []
   },
   "outputs": [
    {
     "name": "stdout",
     "output_type": "stream",
     "text": [
      "Best val auc:  0.8441\n",
      "Best val auc:  0.8184\n",
      "Best val auc:  0.9230\n",
      "Best val auc:  0.8674\n",
      "Best val auc:  0.9077\n",
      "Best val auc:  0.8527\n",
      "Best val auc:  0.8313\n",
      "Best val auc:  0.9133\n",
      "Best val auc:  0.8621\n",
      "Best val auc:  0.8895\n",
      "Best val auc:  0.9268\n",
      "Best val auc:  0.8955\n",
      "Best val auc:  0.8909\n",
      "Best val auc:  0.9010\n",
      "Best val auc:  0.8809\n",
      "Best val auc:  0.8713\n",
      "Best val auc:  0.8528\n",
      "Best val auc:  0.8700\n",
      "Best val auc:  0.8588\n",
      "Best val auc:  0.8311\n",
      "mean scores:  0.8744\n"
     ]
    }
   ],
   "source": [
    "preds = []\n",
    "scores = []\n",
    "\n",
    "skf = StratifiedKFold(n_splits=20, random_state=42, shuffle=True)\n",
    "\n",
    "model_params = {\n",
    "    'precompute': 'auto',\n",
    "    'fit_intercept': True,\n",
    "    'max_iter': 100000,\n",
    "    'verbose': False,\n",
    "    'eps': 1e-04, \n",
    "    'n_alphas': 1000,\n",
    "    'n_jobs': -1,\n",
    "}\n",
    "\n",
    "for train_index, test_index in skf.split(X, y):\n",
    "    X_train, X_valid = X.iloc[train_index], X.iloc[test_index]\n",
    "    y_train, y_valid = y.iloc[train_index], y.iloc[test_index]\n",
    "    \n",
    "    model = LassoCV(**model_params)\n",
    "    \n",
    "    model.fit(X_train, y_train)\n",
    "    preds.append(model.predict(X_test))\n",
    "    s = roc_auc_score(y_valid, model.predict(X_valid))\n",
    "    print(f'Best val auc: {s: .4f}')\n",
    "    scores.append(s)\n",
    "    \n",
    "print(f'mean scores: {np.mean(scores): .4f}')"
   ]
  },
  {
   "cell_type": "code",
   "execution_count": 29,
   "id": "23b8973d",
   "metadata": {
    "execution": {
     "iopub.execute_input": "2023-05-26T18:21:57.506245Z",
     "iopub.status.busy": "2023-05-26T18:21:57.505714Z",
     "iopub.status.idle": "2023-05-26T18:21:57.511471Z",
     "shell.execute_reply": "2023-05-26T18:21:57.510376Z"
    },
    "papermill": {
     "duration": 0.045049,
     "end_time": "2023-05-26T18:21:57.514072",
     "exception": false,
     "start_time": "2023-05-26T18:21:57.469023",
     "status": "completed"
    },
    "tags": []
   },
   "outputs": [],
   "source": [
    "def sigmoid(z):\n",
    "    return 1 / (1 + np.exp(-z))"
   ]
  },
  {
   "cell_type": "code",
   "execution_count": 30,
   "id": "108fbd74",
   "metadata": {
    "execution": {
     "iopub.execute_input": "2023-05-26T18:21:57.554958Z",
     "iopub.status.busy": "2023-05-26T18:21:57.554603Z",
     "iopub.status.idle": "2023-05-26T18:23:02.173293Z",
     "shell.execute_reply": "2023-05-26T18:23:02.172158Z"
    },
    "papermill": {
     "duration": 64.636188,
     "end_time": "2023-05-26T18:23:02.175739",
     "exception": false,
     "start_time": "2023-05-26T18:21:57.539551",
     "status": "completed"
    },
    "tags": []
   },
   "outputs": [
    {
     "name": "stdout",
     "output_type": "stream",
     "text": [
      "Best val auc: 0.8726\n",
      "Best val auc: 0.9045\n",
      "Best val auc: 0.8971\n",
      "Best val auc: 0.8974\n",
      "Best val auc: 0.8802\n",
      "Best val auc: 0.9243\n",
      "Best val auc: 0.9133\n",
      "Best val auc: 0.9030\n",
      "Best val auc: 0.8853\n",
      "Best val auc: 0.8719\n",
      "mean scores:  0.8813\n"
     ]
    }
   ],
   "source": [
    "skf = StratifiedKFold(n_splits=10, random_state=42, shuffle=True)\n",
    "\n",
    "cb_params = {\n",
    "    'depth': 3,\n",
    "    'learning_rate': 0.01,\n",
    "    'rsm': 0.5,\n",
    "    'subsample': 0.931,\n",
    "    'l2_leaf_reg': 69,\n",
    "    'min_data_in_leaf': 20,\n",
    "    'random_strength': 0.175,\n",
    "    'use_best_model': True,\n",
    "    'task_type': 'CPU',\n",
    "    'bootstrap_type': 'Bernoulli',\n",
    "    'grow_policy': 'SymmetricTree',\n",
    "    'loss_function': 'Logloss',\n",
    "    'eval_metric': 'AUC',\n",
    "    'scale_pos_weight': 5\n",
    "}\n",
    "\n",
    "for train_index, val_index in skf.split(X, y):\n",
    "    cb_train = cb.Pool(data=X.iloc[train_index], label=y.iloc[train_index])\n",
    "    cb_valid = cb.Pool(data=X.iloc[val_index], label=y.iloc[val_index])\n",
    "    \n",
    "    model = cb.train(\n",
    "        params=cb_params,\n",
    "        dtrain=cb_train,\n",
    "        num_boost_round=10000,\n",
    "        evals=cb_valid, \n",
    "        early_stopping_rounds=500,\n",
    "        verbose=False\n",
    "    )\n",
    "    \n",
    "    s = roc_auc_score(y[val_index], model.predict(cb_valid))\n",
    "    \n",
    "    print(f\"Best val auc: {s:.4f}\")\n",
    "    scores.append(s)\n",
    "    preds.append(sigmoid(model.predict(X_test)))\n",
    "\n",
    "print(f'mean scores: {np.mean(scores): .4f}')"
   ]
  },
  {
   "cell_type": "code",
   "execution_count": 31,
   "id": "791a287c",
   "metadata": {
    "execution": {
     "iopub.execute_input": "2023-05-26T18:23:02.201126Z",
     "iopub.status.busy": "2023-05-26T18:23:02.200752Z",
     "iopub.status.idle": "2023-05-26T18:23:02.243264Z",
     "shell.execute_reply": "2023-05-26T18:23:02.242199Z"
    },
    "papermill": {
     "duration": 0.058207,
     "end_time": "2023-05-26T18:23:02.245899",
     "exception": false,
     "start_time": "2023-05-26T18:23:02.187692",
     "status": "completed"
    },
    "tags": []
   },
   "outputs": [],
   "source": [
    "rankpreds = []\n",
    "\n",
    "for pred in preds:\n",
    "    rankpred = rankdata(pred)\n",
    "    rankpreds.append(rankpred)\n",
    "\n",
    "finalrank = np.average(np.array(rankpreds), axis=0) / len(X_test)"
   ]
  },
  {
   "cell_type": "code",
   "execution_count": 32,
   "id": "0f618ac9",
   "metadata": {
    "execution": {
     "iopub.execute_input": "2023-05-26T18:23:02.271709Z",
     "iopub.status.busy": "2023-05-26T18:23:02.271331Z",
     "iopub.status.idle": "2023-05-26T18:23:02.278222Z",
     "shell.execute_reply": "2023-05-26T18:23:02.277196Z"
    },
    "papermill": {
     "duration": 0.02232,
     "end_time": "2023-05-26T18:23:02.280325",
     "exception": false,
     "start_time": "2023-05-26T18:23:02.258005",
     "status": "completed"
    },
    "tags": []
   },
   "outputs": [
    {
     "data": {
      "text/plain": [
       "(10204,)"
      ]
     },
     "execution_count": 32,
     "metadata": {},
     "output_type": "execute_result"
    }
   ],
   "source": [
    "finalrank.shape"
   ]
  },
  {
   "cell_type": "code",
   "execution_count": 33,
   "id": "5fa81f53",
   "metadata": {
    "execution": {
     "iopub.execute_input": "2023-05-26T18:23:02.305659Z",
     "iopub.status.busy": "2023-05-26T18:23:02.305242Z",
     "iopub.status.idle": "2023-05-26T18:23:02.340859Z",
     "shell.execute_reply": "2023-05-26T18:23:02.339903Z"
    },
    "papermill": {
     "duration": 0.051046,
     "end_time": "2023-05-26T18:23:02.343312",
     "exception": false,
     "start_time": "2023-05-26T18:23:02.292266",
     "status": "completed"
    },
    "tags": []
   },
   "outputs": [],
   "source": [
    "submission['stroke'] = finalrank\n",
    "submission.to_csv('submission.csv', index=False)"
   ]
  },
  {
   "cell_type": "code",
   "execution_count": 34,
   "id": "2b729323",
   "metadata": {
    "execution": {
     "iopub.execute_input": "2023-05-26T18:23:02.368922Z",
     "iopub.status.busy": "2023-05-26T18:23:02.368538Z",
     "iopub.status.idle": "2023-05-26T18:23:02.379154Z",
     "shell.execute_reply": "2023-05-26T18:23:02.378151Z"
    },
    "papermill": {
     "duration": 0.025805,
     "end_time": "2023-05-26T18:23:02.381211",
     "exception": false,
     "start_time": "2023-05-26T18:23:02.355406",
     "status": "completed"
    },
    "tags": []
   },
   "outputs": [
    {
     "data": {
      "text/html": [
       "<div>\n",
       "<style scoped>\n",
       "    .dataframe tbody tr th:only-of-type {\n",
       "        vertical-align: middle;\n",
       "    }\n",
       "\n",
       "    .dataframe tbody tr th {\n",
       "        vertical-align: top;\n",
       "    }\n",
       "\n",
       "    .dataframe thead th {\n",
       "        text-align: right;\n",
       "    }\n",
       "</style>\n",
       "<table border=\"1\" class=\"dataframe\">\n",
       "  <thead>\n",
       "    <tr style=\"text-align: right;\">\n",
       "      <th></th>\n",
       "      <th>id</th>\n",
       "      <th>stroke</th>\n",
       "    </tr>\n",
       "  </thead>\n",
       "  <tbody>\n",
       "    <tr>\n",
       "      <th>0</th>\n",
       "      <td>15304</td>\n",
       "      <td>0.715396</td>\n",
       "    </tr>\n",
       "    <tr>\n",
       "      <th>1</th>\n",
       "      <td>15305</td>\n",
       "      <td>0.947971</td>\n",
       "    </tr>\n",
       "    <tr>\n",
       "      <th>2</th>\n",
       "      <td>15306</td>\n",
       "      <td>0.220280</td>\n",
       "    </tr>\n",
       "    <tr>\n",
       "      <th>3</th>\n",
       "      <td>15307</td>\n",
       "      <td>0.719189</td>\n",
       "    </tr>\n",
       "    <tr>\n",
       "      <th>4</th>\n",
       "      <td>15308</td>\n",
       "      <td>0.378374</td>\n",
       "    </tr>\n",
       "    <tr>\n",
       "      <th>5</th>\n",
       "      <td>15309</td>\n",
       "      <td>0.320164</td>\n",
       "    </tr>\n",
       "    <tr>\n",
       "      <th>6</th>\n",
       "      <td>15310</td>\n",
       "      <td>0.506724</td>\n",
       "    </tr>\n",
       "    <tr>\n",
       "      <th>7</th>\n",
       "      <td>15311</td>\n",
       "      <td>0.840987</td>\n",
       "    </tr>\n",
       "    <tr>\n",
       "      <th>8</th>\n",
       "      <td>15312</td>\n",
       "      <td>0.255370</td>\n",
       "    </tr>\n",
       "    <tr>\n",
       "      <th>9</th>\n",
       "      <td>15313</td>\n",
       "      <td>0.583031</td>\n",
       "    </tr>\n",
       "  </tbody>\n",
       "</table>\n",
       "</div>"
      ],
      "text/plain": [
       "      id    stroke\n",
       "0  15304  0.715396\n",
       "1  15305  0.947971\n",
       "2  15306  0.220280\n",
       "3  15307  0.719189\n",
       "4  15308  0.378374\n",
       "5  15309  0.320164\n",
       "6  15310  0.506724\n",
       "7  15311  0.840987\n",
       "8  15312  0.255370\n",
       "9  15313  0.583031"
      ]
     },
     "execution_count": 34,
     "metadata": {},
     "output_type": "execute_result"
    }
   ],
   "source": [
    "submission.head(10)"
   ]
  },
  {
   "cell_type": "code",
   "execution_count": null,
   "id": "84ce2ac9",
   "metadata": {
    "papermill": {
     "duration": 0.01197,
     "end_time": "2023-05-26T18:23:02.405413",
     "exception": false,
     "start_time": "2023-05-26T18:23:02.393443",
     "status": "completed"
    },
    "tags": []
   },
   "outputs": [],
   "source": []
  }
 ],
 "metadata": {
  "kernelspec": {
   "display_name": "Python 3",
   "language": "python",
   "name": "python3"
  },
  "language_info": {
   "codemirror_mode": {
    "name": "ipython",
    "version": 3
   },
   "file_extension": ".py",
   "mimetype": "text/x-python",
   "name": "python",
   "nbconvert_exporter": "python",
   "pygments_lexer": "ipython3",
   "version": "3.10.10"
  },
  "papermill": {
   "default_parameters": {},
   "duration": 117.480884,
   "end_time": "2023-05-26T18:23:03.440205",
   "environment_variables": {},
   "exception": null,
   "input_path": "__notebook__.ipynb",
   "output_path": "__notebook__.ipynb",
   "parameters": {},
   "start_time": "2023-05-26T18:21:05.959321",
   "version": "2.4.0"
  }
 },
 "nbformat": 4,
 "nbformat_minor": 5
}
